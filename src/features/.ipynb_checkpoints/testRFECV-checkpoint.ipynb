{
 "cells": [
  {
   "cell_type": "code",
   "execution_count": null,
   "metadata": {
    "vscode": {
     "languageId": "plaintext"
    }
   },
   "outputs": [],
   "source": [
    "import pandas as pd\n",
    "from sklearn.model_selection import train_test_split, StratifiedKFold\n",
    "from sklearn.ensemble import GradientBoostingClassifier\n",
    "from sklearn.feature_selection import RFECV\n",
    "from sklearn.pipeline import Pipeline\n",
    "from sklearn.metrics import accuracy_score\n",
    "import numpy as np\n",
    "\n"
   ]
  },
  {
   "cell_type": "code",
   "execution_count": null,
   "metadata": {
    "vscode": {
     "languageId": "plaintext"
    }
   },
   "outputs": [],
   "source": [
    "path_base = '/run/media/superuser/Almacen/mapbiomas/dadosCol10/ROIsv2/'\n",
    "pathFeaturesBase = '/home/superuser/Dados/mapbiomas/dev_collection_10/src/dados/FS_col10'\n",
    "lstfiles = glob.glob(path_base + '/*')\n",
    "# print(lstfiles)\n",
    "lstpathfiles = []\n",
    "for cc, npath in enumerate(lstfiles):\n",
    "    if 'rois_grade' not in npath:\n",
    "        print(f\"#{cc} >> {npath}\")\n",
    "        lstpathfiles.append(npath)"
   ]
  },
  {
   "cell_type": "code",
   "execution_count": null,
   "metadata": {
    "vscode": {
     "languageId": "plaintext"
    }
   },
   "outputs": [],
   "source": [
    "# Supondo que a tabela esteja em um arquivo CSV\n",
    "df = pd.read_csv(lstpathfiles[4])\n",
    "\n",
    "# Colunas de features (índices espectrais)\n",
    "columns_features = [\n",
    "    \"afvi_median\", \"afvi_median_dry\", \"afvi_median_wet\", \"avi_median\", \"avi_median_dry\", \"avi_median_wet\",\n",
    "    \"awei_median\", \"awei_median_dry\", \"awei_median_wet\", \"blue_median\", \"blue_median_dry\",\n",
    "    \"blue_median_wet\", \"blue_stdDev\", \"brba_median\", \"brba_median_dry\", \"brba_median_wet\",\n",
    "    \"brightness_median\", \"brightness_median_dry\", \"brightness_median_wet\", \"bsi_median\", \"bsi_median_1\",\n",
    "    \"bsi_median_2\", \"cvi_median\", \"cvi_median_dry\", \"cvi_median_wet\",\n",
    "    \"dswi5_median\", \"dswi5_median_dry\", \"dswi5_median_wet\", \"evi_median\", \"evi_median_dry\",\n",
    "    \"evi_median_wet\", \"gcvi_median\", \"gcvi_median_dry\", \"gcvi_median_wet\", \"gemi_median\",\n",
    "    \"gemi_median_dry\", \"gemi_median_wet\", \"gli_median\", \"gli_median_dry\", \"gli_median_wet\",\n",
    "    \"green_median\", \"green_median_dry\", \"green_median_wet\", \"green_stdDev\", \"gvmi_median\",\n",
    "    \"gvmi_median_dry\", \"gvmi_median_wet\", \"hillshade\", \"iia_median\", \"iia_median_dry\",\n",
    "    \"iia_median_wet\", \"lswi_median\", \"lswi_median_dry\", \"lswi_median_wet\", \"mbi_median\",\n",
    "    \"mbi_median_dry\", \"mbi_median_wet\", \"nddi_median\", \"nddi_median_dry\", \"nddi_median_wet\",\n",
    "    \"ndvi_median\", \"ndvi_median_dry\", \"ndvi_median_wet\", \"ndwi_median\", \"ndwi_median_dry\",\n",
    "    \"ndwi_median_wet\", \"nir_median\", \"nir_median_contrast\", \"nir_median_dry\", \"nir_median_dry_contrast\",\n",
    "    \"nir_median_wet\", \"nir_stdDev\", \"osavi_median\", \"osavi_median_dry\", \"osavi_median_wet\",\n",
    "    \"ratio_median\", \"ratio_median_dry\", \"ratio_median_wet\", \"red_median\", \"red_median_contrast\",\n",
    "    \"red_median_dry\", \"red_median_dry_contrast\", \"red_median_wet\", \"red_stdDev\", \"ri_median\",\n",
    "    \"ri_median_dry\", \"ri_median_wet\", \"rvi_median\", \"rvi_median_1\", \"rvi_median_wet\",\n",
    "    \"shape_median\", \"shape_median_dry\", \"shape_median_wet\", \"solpe\", \"swir1_median\",\n",
    "    \"swir1_median_dry\", \"swir1_median_wet\", \"swir1_stdDev\", \"swir2_median\", \"swir2_median_dry\",\n",
    "    \"swir2_median_wet\", \"swir2_stdDev\", \"ui_median\", \"ui_median_dry\", \"ui_median_wet\",\n",
    "    \"wetness_median\", \"wetness_median_dry\", \"wetness_median_wet\",\n",
    "]\n",
    "\n",
    "# Coluna alvo (classes)\n",
    "target_column = \"class\"\n",
    "\n",
    "# Dividir os dados em treino e teste\n",
    "X = df[columns_features]\n",
    "y = df[target_column]\n",
    "X_train, X_test, y_train, y_test = train_test_split(X, y, test_size=0.2, random_state=42, stratify=y)"
   ]
  }
 ],
 "metadata": {
  "language_info": {
   "name": "python"
  }
 },
 "nbformat": 4,
 "nbformat_minor": 2
}
