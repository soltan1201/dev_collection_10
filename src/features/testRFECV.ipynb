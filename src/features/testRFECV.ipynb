{
 "cells": [
  {
   "cell_type": "markdown",
   "metadata": {},
   "source": [
    "# Analises de amostras "
   ]
  },
  {
   "cell_type": "markdown",
   "metadata": {},
   "source": [
    "## Bibliotecas"
   ]
  },
  {
   "cell_type": "code",
   "execution_count": 1,
   "metadata": {
    "vscode": {
     "languageId": "plaintext"
    }
   },
   "outputs": [],
   "source": [
    "import pandas as pd\n",
    "import glob\n",
    "from sklearn.model_selection import train_test_split, StratifiedKFold\n",
    "from sklearn.ensemble import GradientBoostingClassifier\n",
    "from sklearn.feature_selection import RFECV\n",
    "from sklearn.pipeline import Pipeline\n",
    "from sklearn.metrics import accuracy_score\n",
    "import numpy as np"
   ]
  },
  {
   "cell_type": "markdown",
   "metadata": {},
   "source": [
    "## Passo 1: Carregar e Preparar os Dados\n",
    "\n",
    "Vamos carregar a tabela e preparar os dados para o modelo."
   ]
  },
  {
   "cell_type": "code",
   "execution_count": 2,
   "metadata": {
    "vscode": {
     "languageId": "plaintext"
    }
   },
   "outputs": [
    {
     "name": "stdout",
     "output_type": "stream",
     "text": [
      "#1 >> /run/media/superuser/Almacen/mapbiomas/dadosCol10/ROIsv2/7615.csv\n",
      "#3 >> /run/media/superuser/Almacen/mapbiomas/dadosCol10/ROIsv2/7746.csv\n",
      "#5 >> /run/media/superuser/Almacen/mapbiomas/dadosCol10/ROIsv2/773.csv\n",
      "#6 >> /run/media/superuser/Almacen/mapbiomas/dadosCol10/ROIsv2/765.csv\n",
      "#9 >> /run/media/superuser/Almacen/mapbiomas/dadosCol10/ROIsv2/7712.csv\n",
      "#11 >> /run/media/superuser/Almacen/mapbiomas/dadosCol10/ROIsv2/7619.csv\n"
     ]
    }
   ],
   "source": [
    "path_base = '/run/media/superuser/Almacen/mapbiomas/dadosCol10/ROIsv2/'\n",
    "pathFeaturesBase = '/home/superuser/Dados/mapbiomas/dev_collection_10/src/dados/FS_col10'\n",
    "lstfiles = glob.glob(path_base + '/*')\n",
    "# print(lstfiles)\n",
    "lstpathfiles = []\n",
    "for cc, npath in enumerate(lstfiles):\n",
    "    if 'rois_grade' not in npath:\n",
    "        print(f\"#{cc} >> {npath}\")\n",
    "        lstpathfiles.append(npath)"
   ]
  },
  {
   "cell_type": "code",
   "execution_count": 3,
   "metadata": {
    "vscode": {
     "languageId": "plaintext"
    }
   },
   "outputs": [],
   "source": [
    "# Supondo que a tabela esteja em um arquivo CSV\n",
    "df = pd.read_csv(lstpathfiles[2])\n",
    "\n",
    "# Colunas de features (índices espectrais)\n",
    "columns_features = [\n",
    "    \"afvi_median\", \"afvi_median_dry\", \"afvi_median_wet\", \"avi_median\", \"avi_median_dry\", \"avi_median_wet\",\n",
    "    \"awei_median\", \"awei_median_dry\", \"awei_median_wet\", \"blue_median\", \"blue_median_dry\",\n",
    "    \"blue_median_wet\", \"blue_stdDev\", \"brba_median\", \"brba_median_dry\", \"brba_median_wet\",\n",
    "    \"brightness_median\", \"brightness_median_dry\", \"brightness_median_wet\", \"bsi_median\", \"bsi_median_1\",\n",
    "    \"bsi_median_2\", \"cvi_median\", \"cvi_median_dry\", \"cvi_median_wet\",\n",
    "    \"dswi5_median\", \"dswi5_median_dry\", \"dswi5_median_wet\", \"evi_median\", \"evi_median_dry\",\n",
    "    \"evi_median_wet\", \"gcvi_median\", \"gcvi_median_dry\", \"gcvi_median_wet\", \"gemi_median\",\n",
    "    \"gemi_median_dry\", \"gemi_median_wet\", \"gli_median\", \"gli_median_dry\", \"gli_median_wet\",\n",
    "    \"green_median\", \"green_median_dry\", \"green_median_wet\", \"green_stdDev\", \"gvmi_median\",\n",
    "    \"gvmi_median_dry\", \"gvmi_median_wet\", \"hillshade\", \"iia_median\", \"iia_median_dry\",\n",
    "    \"iia_median_wet\", \"lswi_median\", \"lswi_median_dry\", \"lswi_median_wet\", \"mbi_median\",\n",
    "    \"mbi_median_dry\", \"mbi_median_wet\", \"nddi_median\", \"nddi_median_dry\", \"nddi_median_wet\",\n",
    "    \"ndvi_median\", \"ndvi_median_dry\", \"ndvi_median_wet\", \"ndwi_median\", \"ndwi_median_dry\",\n",
    "    \"ndwi_median_wet\", \"nir_median\", \"nir_median_contrast\", \"nir_median_dry\", \"nir_median_dry_contrast\",\n",
    "    \"nir_median_wet\", \"nir_stdDev\", \"osavi_median\", \"osavi_median_dry\", \"osavi_median_wet\",\n",
    "    \"ratio_median\", \"ratio_median_dry\", \"ratio_median_wet\", \"red_median\", \"red_median_contrast\",\n",
    "    \"red_median_dry\", \"red_median_dry_contrast\", \"red_median_wet\", \"red_stdDev\", \"ri_median\",\n",
    "    \"ri_median_dry\", \"ri_median_wet\", \"rvi_median\", \"rvi_median_1\", \"rvi_median_wet\",\n",
    "    \"shape_median\", \"shape_median_dry\", \"shape_median_wet\", \"solpe\", \"swir1_median\",\n",
    "    \"swir1_median_dry\", \"swir1_median_wet\", \"swir1_stdDev\", \"swir2_median\", \"swir2_median_dry\",\n",
    "    \"swir2_median_wet\", \"swir2_stdDev\", \"ui_median\", \"ui_median_dry\", \"ui_median_wet\",\n",
    "    \"wetness_median\", \"wetness_median_dry\", \"wetness_median_wet\",\n",
    "]\n",
    "\n",
    "# Coluna alvo (classes)\n",
    "target_column = \"class\"\n",
    "\n",
    "# Dividir os dados em treino e teste\n",
    "X = df[columns_features]\n",
    "y = df[target_column]\n",
    "X_train, X_test, y_train, y_test = train_test_split(X, y, test_size=0.2, random_state=42, stratify=y)"
   ]
  },
  {
   "cell_type": "markdown",
   "metadata": {},
   "source": [
    "## Passo 2: Seleção de Features com RFECV\n",
    "\n",
    "Agora, vamos aplicar o RFECV para selecionar as melhores features."
   ]
  },
  {
   "cell_type": "code",
   "execution_count": null,
   "metadata": {
    "vscode": {
     "languageId": "plaintext"
    }
   },
   "outputs": [],
   "source": [
    "# Criar o modelo base (Gradient Boosting)\n",
    "gb_model = GradientBoostingClassifier(random_state=42)\n",
    "\n",
    "# Configurar o RFECV\n",
    "rfecv = RFECV(\n",
    "    estimator=gb_model,\n",
    "    step=1,\n",
    "    cv=StratifiedKFold(3),  # Validação cruzada estratificada\n",
    "    scoring='accuracy',\n",
    "    min_features_to_select=10,  # Número mínimo de features a serem selecionadas\n",
    "    n_jobs=-1  # Paralelizar o processo\n",
    ")\n",
    "\n",
    "# Aplicar o RFECV aos dados de treino\n",
    "rfecv.fit(X_train, y_train)\n",
    "\n",
    "# Mostrar as features selecionadas\n",
    "selected_features = X_train.columns[rfecv.support_]\n",
    "print(\"Features selecionadas:\", selected_features.tolist())\n",
    "print(\"Número ótimo de features:\", rfecv.n_features_)"
   ]
  },
  {
   "cell_type": "markdown",
   "metadata": {},
   "source": [
    "## Passo 3: Extrair Hiperparâmetros do Gradient Boosting\n",
    "\n",
    "Agora que temos as features selecionadas, vamos treinar o modelo Gradient Boosting com esses dados e extrair os hiperparâmetros otimizados."
   ]
  },
  {
   "cell_type": "code",
   "execution_count": null,
   "metadata": {
    "vscode": {
     "languageId": "plaintext"
    }
   },
   "outputs": [],
   "source": [
    "# Filtrar as features selecionadas\n",
    "X_train_selected = X_train[selected_features]\n",
    "X_test_selected = X_test[selected_features]\n",
    "\n",
    "# Treinar o modelo com as features selecionadas\n",
    "gb_model.fit(X_train_selected, y_train)\n",
    "\n",
    "# Avaliar o modelo\n",
    "y_pred = gb_model.predict(X_test_selected)\n",
    "accuracy = accuracy_score(y_test, y_pred)\n",
    "print(f\"Acurácia do modelo: {accuracy:.4f}\")\n",
    "\n",
    "# Extrair os hiperparâmetros do modelo\n",
    "hyperparameters = gb_model.get_params()\n",
    "print(\"Hiperparâmetros do modelo:\")\n",
    "for param, value in hyperparameters.items():\n",
    "    print(f\"{param}: {value}\")"
   ]
  },
  {
   "cell_type": "markdown",
   "metadata": {},
   "source": [
    "## Passo 4: Salvar os Resultados\n",
    "\n",
    "Você pode salvar as features selecionadas e os hiperparâmetros em arquivos para uso futuro."
   ]
  },
  {
   "cell_type": "code",
   "execution_count": null,
   "metadata": {
    "vscode": {
     "languageId": "plaintext"
    }
   },
   "outputs": [],
   "source": [
    "# Salvar as features selecionadas\n",
    "selected_features_df = pd.DataFrame({'selected_features': selected_features})\n",
    "selected_features_df.to_csv('selected_features.csv', index=False)\n",
    "\n",
    "# Salvar os hiperparâmetros\n",
    "hyperparameters_df = pd.DataFrame(list(hyperparameters.items()), columns=['parameter', 'value'])\n",
    "hyperparameters_df.to_csv('hyperparameters.csv', index=False)"
   ]
  }
 ],
 "metadata": {
  "kernelspec": {
   "display_name": "Python 3 (ipykernel)",
   "language": "python",
   "name": "python3"
  },
  "language_info": {
   "codemirror_mode": {
    "name": "ipython",
    "version": 3
   },
   "file_extension": ".py",
   "mimetype": "text/x-python",
   "name": "python",
   "nbconvert_exporter": "python",
   "pygments_lexer": "ipython3",
   "version": "3.13.1"
  }
 },
 "nbformat": 4,
 "nbformat_minor": 4
}
